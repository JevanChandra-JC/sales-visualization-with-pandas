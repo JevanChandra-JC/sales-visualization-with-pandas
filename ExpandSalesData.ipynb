{
 "cells": [
  {
   "cell_type": "code",
   "execution_count": 6,
   "id": "38a8a8cb-517e-4d20-a4b9-8ed2bd5dadde",
   "metadata": {},
   "outputs": [],
   "source": [
    "import pandas as pd\n",
    "import numpy as np\n",
    "from datetime import timedelta\n",
    "\n",
    "# Load your original dataset\n",
    "df = pd.read_csv(r\"C:\\Users\\Jevan\\OneDrive\\Desktop\\Data\\sample_orders.csv\")\n",
    "\n",
    "# Define synthetic product list\n",
    "products = {\n",
    "    \"Laptop\": 1000,\n",
    "    \"Mouse\": 25,\n",
    "    \"Keyboard\": 45,\n",
    "    \"Monitor\": 300,\n",
    "    \"Webcam\": 75,\n",
    "    \"USB Hub\": 40,\n",
    "    \"Desk Lamp\": 60\n",
    "}\n",
    "\n",
    "# Generate new rows\n",
    "np.random.seed(42)\n",
    "new_orders = []\n",
    "last_order_id = df[\"order_id\"].max()\n",
    "start_date = pd.to_datetime(\"2024-01-19\")\n",
    "\n",
    "for i in range(100):\n",
    "    order_id = last_order_id + i + 1\n",
    "    customer_id = np.random.randint(1, 21)\n",
    "    product = np.random.choice(list(products.keys()))\n",
    "    quantity = np.random.randint(1, 5)\n",
    "    price = products[product]\n",
    "    order_date = start_date + timedelta(days=np.random.randint(0, 30))\n",
    "    new_orders.append([order_id, customer_id, product, quantity, price, order_date])\n",
    "\n",
    "# Create DataFrame and combine\n",
    "df_new = pd.DataFrame(new_orders, columns=df.columns)\n",
    "df_expanded = pd.concat([df, df_new], ignore_index=True)\n",
    "\n",
    "# Save to CSV\n",
    "df_expanded.to_csv(\"sample_orders_expanded.csv\", index=False)"
   ]
  },
  {
   "cell_type": "code",
   "execution_count": 7,
   "id": "b8e7958f-7344-4759-bbbe-07c994a47552",
   "metadata": {},
   "outputs": [
    {
     "name": "stdout",
     "output_type": "stream",
     "text": [
      "C:\\Users\\Jevan\n"
     ]
    }
   ],
   "source": [
    "import os\n",
    "print(os.getcwd())"
   ]
  },
  {
   "cell_type": "code",
   "execution_count": null,
   "id": "b661edc3-94bc-48e4-8791-bda1433d9f58",
   "metadata": {},
   "outputs": [],
   "source": []
  }
 ],
 "metadata": {
  "kernelspec": {
   "display_name": "Python 3 (ipykernel)",
   "language": "python",
   "name": "python3"
  },
  "language_info": {
   "codemirror_mode": {
    "name": "ipython",
    "version": 3
   },
   "file_extension": ".py",
   "mimetype": "text/x-python",
   "name": "python",
   "nbconvert_exporter": "python",
   "pygments_lexer": "ipython3",
   "version": "3.12.4"
  }
 },
 "nbformat": 4,
 "nbformat_minor": 5
}
